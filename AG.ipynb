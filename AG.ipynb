{
 "cells": [
  {
   "cell_type": "markdown",
   "metadata": {
    "id": "dBbVYYPPqWuN"
   },
   "source": [
    "# Lectura de Datos"
   ]
  },
  {
   "cell_type": "code",
   "execution_count": 17,
   "metadata": {},
   "outputs": [
    {
     "name": "stdout",
     "output_type": "stream",
     "text": [
      "Defaulting to user installation because normal site-packages is not writeable\n",
      "Requirement already satisfied: pandas in /Users/adolfx/Library/Python/3.9/lib/python/site-packages (1.5.1)\n",
      "Requirement already satisfied: python-dateutil>=2.8.1 in /Library/Python/3.9/site-packages (from pandas) (2.8.2)\n",
      "Requirement already satisfied: pytz>=2020.1 in /Users/adolfx/Library/Python/3.9/lib/python/site-packages (from pandas) (2022.5)\n",
      "Requirement already satisfied: numpy>=1.20.3 in /Users/adolfx/Library/Python/3.9/lib/python/site-packages (from pandas) (1.23.4)\n",
      "Requirement already satisfied: six>=1.5 in /Library/Developer/CommandLineTools/Library/Frameworks/Python3.framework/Versions/3.9/lib/python3.9/site-packages (from python-dateutil>=2.8.1->pandas) (1.15.0)\n",
      "\u001B[33mWARNING: You are using pip version 21.2.4; however, version 22.3 is available.\n",
      "You should consider upgrading via the '/Library/Developer/CommandLineTools/usr/bin/python3 -m pip install --upgrade pip' command.\u001B[0m\n"
     ]
    }
   ],
   "source": [
    "!pip3 install pandas"
   ]
  },
  {
   "cell_type": "code",
   "execution_count": 3,
   "metadata": {},
   "outputs": [],
   "source": [
    "import pandas as pd"
   ]
  },
  {
   "cell_type": "code",
   "execution_count": 4,
   "metadata": {
    "colab": {
     "base_uri": "https://localhost:8080/",
     "height": 704
    },
    "id": "vTXtiKmQmZBW",
    "outputId": "f62a2ce1-b05e-41db-9307-0b44d224e71f"
   },
   "outputs": [
    {
     "data": {
      "text/plain": "    id_curso                                          nom_curso cod_curso  \\\n0          1                      Investigacion en Ingenieria I       II1   \n1          2  Planeamiento Estrategico de Sistemas y Tecnolo...     PESTI   \n2          3                         Practicas Preprofesionales       PPP   \n3          4                             Tecnologias Emergentes        TE   \n4          5             Planeamiento de Recursos Empresariales       PRE   \n5          6                               Gestion de Proyectos        GP   \n6          7                        Seguridad de la Informacion     SINFO   \n7          8  Gestion de Riesgos en Tecnologias de la Inform...      GRTI   \n8          9                             Organización y Metodos        OM   \n9         10                         Proyecto de Fin de Carrera       PFC   \n10        11                     Investigacion en Ingenieria II       II2   \n11        12  Auditoria de Sistemas y Tecnologias de la Info...      ASTI   \n12        13                     Gestion de Procesos de Negocio       GPN   \n13        14                                Sistemas Operativos        SO   \n14        15                  Ingenieria de Sistemas y Sociedad       ISS   \n15        16                                Tecnologias Moviles        TM   \n16        17  Testing, Implantacion y Mantenimiento de Sistemas      TIMS   \n17        18                             Sistemas Inteligenctes      SINT   \n18        19                       Iteraccion Humano-Computador       IHC   \n19        20                           Inteligencia de Negocios        IN   \n20        21  Fundamentos de Proyectos de Sistemas de Inform...      FPSI   \n21        22  Gestion de Sistemas y Tecnologias de la Inform...      GSTI   \n22        23                           Gestion del Conocimiento        GC   \n23        24                       Innovacion y Emprendedurismo        IE   \n24        25                        Optimizacion de Operaciones        OO   \n25        26                      Análisis y Diseño de Sistemas       ADS   \n26        27                   Algoritmos y Estructura de Datos       AED   \n27        28                              Computación en Red II       CR2   \n28        29           Sistemas de Información Administrativa I       SIA   \n29        30                             Computación en Red III       CR3   \n30        31                     Gestión de Datos e Información       GDI   \n31        32   Infraestructura de Tecnologías de la Información       ITI   \n32        33                         Desarrollo de Aplicaciones        DA   \n33        34          Sistemas de Información Administrativa II      SIA2   \n\n    id_prof            nom_prof cod_prof    tip_prof  num_semestre  \\\n0     43525          Jose Sulla       JS     Oficial             9   \n1     45245       Karim Paredes       KP  Emergencia             9   \n2     33635      Jorge Martinez       JM  Emergencia             9   \n3     46565        Diego Iquira       DI     Oficial             9   \n4     78578       Jose Esquicha       JE   Sustituto             9   \n5     78354      Freddy Delgado       FD     Oficial             9   \n6     88678      Eveling Castro       EC     Oficial            10   \n7     53738        Karina Rosas       KR     Oficial            10   \n8     68672       Javier Angulo       JA  Emergencia            10   \n9     45827      Nestor Gamarra       NG   Sustituto            10   \n10    25232  Guillermo Calderon       GC     Oficial            10   \n11    52452       Oscar Ramirez       OR     Oficial            10   \n12    46565        Diego Iquira       DI     Oficial             7   \n13    78354      Freddy Delgado       FD     Oficial             7   \n14    78578       Jose Esquicha       JE   Sustituto             7   \n15    45245       Karim Paredes       KP  Emergencia             7   \n16    52452       Oscar Ramirez       OR     Oficial             7   \n17    52452       Oscar Ramirez       OR     Oficial             8   \n18    68672       Javier Angulo       JA  Emergencia             8   \n19    45827      Nestor Gamarra       NG   Sustituto             8   \n20    33635      Jorge Martinez       JM  Emergencia             8   \n21    43525          Jose Sulla       JS     Oficial             8   \n22    43525          Jose Sulla       JS     Oficial             8   \n23    25232  Guillermo Calderon       GC     Oficial             8   \n24    33635      Jorge Martinez       JM  Emergencia             8   \n25    45827      Nestor Gamarra       NG   Sustituto             5   \n26    25232  Guillermo Calderon       GC     Oficial             5   \n27    53738        Karina Rosas       KR     Oficial             5   \n28    46565        Diego Iquira       DI     Oficial             5   \n29    53738        Karina Rosas       KR     Oficial             6   \n30    25232  Guillermo Calderon       GC     Oficial             6   \n31    78578       Jose Esquicha       JE   Sustituto             6   \n32    43525          Jose Sulla       JS     Oficial             6   \n33    46565        Diego Iquira       DI     Oficial             6   \n\n    num_creditos seccion mandatory prerrequisito  hora_inicio  hora_fin  \n0              3       A        Si            Si     0.333333  0.395833  \n1              2       C        No            No     0.833333  0.895833  \n2              2       B        Si            No     0.541667  0.625000  \n3              3       A        Si            No     0.625000  0.687500  \n4              4       A        Si            No     0.770833  0.833333  \n5              4       B        No            Si     0.291667  0.354167  \n6              3       B        Si            No     0.625000  0.708333  \n7              2       A        Si            No     0.687500  0.750000  \n8              2       B        No            No     0.770833  0.833333  \n9              3       C        No            No     0.458333  0.541667  \n10             4       B        Si            No     0.458333  0.520833  \n11             3       C        Si            No     0.750000  0.833333  \n12             4       A        Si            No     0.750000  0.833333  \n13             4       B        Si            No     0.833333  0.895833  \n14             2       C        Si            Si     0.291667  0.354167  \n15             3       A        Si            No     0.770833  0.833333  \n16             3       B        No            No     0.625000  0.708333  \n17             2       A        Si            No     0.770833  0.833333  \n18             3       A        Si            Si     0.291667  0.354167  \n19             4       B        No            No     0.625000  0.708333  \n20             4       C        No            No     0.625000  0.708333  \n21             4       A        Si            No     0.458333  0.541667  \n22             2       B        Si            Si     0.625000  0.687500  \n23             3       A        No            No     0.625000  0.687500  \n24             4       C        Si            No     0.458333  0.520833  \n25             3       B        Si            Si     0.541667  0.625000  \n26             4       C        No            No     0.625000  0.687500  \n27             3       B        Si            Si     0.458333  0.541667  \n28             2       A        Si            Si     0.333333  0.395833  \n29             3       A        Si            No     0.458333  0.520833  \n30             4       B        No            No     0.625000  0.687500  \n31             3       C        No            Si     0.458333  0.541667  \n32             4       A        Si            No     0.333333  0.395833  \n33             2       A        Si            No     0.458333  0.520833  ",
      "text/html": "<div>\n<style scoped>\n    .dataframe tbody tr th:only-of-type {\n        vertical-align: middle;\n    }\n\n    .dataframe tbody tr th {\n        vertical-align: top;\n    }\n\n    .dataframe thead th {\n        text-align: right;\n    }\n</style>\n<table border=\"1\" class=\"dataframe\">\n  <thead>\n    <tr style=\"text-align: right;\">\n      <th></th>\n      <th>id_curso</th>\n      <th>nom_curso</th>\n      <th>cod_curso</th>\n      <th>id_prof</th>\n      <th>nom_prof</th>\n      <th>cod_prof</th>\n      <th>tip_prof</th>\n      <th>num_semestre</th>\n      <th>num_creditos</th>\n      <th>seccion</th>\n      <th>mandatory</th>\n      <th>prerrequisito</th>\n      <th>hora_inicio</th>\n      <th>hora_fin</th>\n    </tr>\n  </thead>\n  <tbody>\n    <tr>\n      <th>0</th>\n      <td>1</td>\n      <td>Investigacion en Ingenieria I</td>\n      <td>II1</td>\n      <td>43525</td>\n      <td>Jose Sulla</td>\n      <td>JS</td>\n      <td>Oficial</td>\n      <td>9</td>\n      <td>3</td>\n      <td>A</td>\n      <td>Si</td>\n      <td>Si</td>\n      <td>0.333333</td>\n      <td>0.395833</td>\n    </tr>\n    <tr>\n      <th>1</th>\n      <td>2</td>\n      <td>Planeamiento Estrategico de Sistemas y Tecnolo...</td>\n      <td>PESTI</td>\n      <td>45245</td>\n      <td>Karim Paredes</td>\n      <td>KP</td>\n      <td>Emergencia</td>\n      <td>9</td>\n      <td>2</td>\n      <td>C</td>\n      <td>No</td>\n      <td>No</td>\n      <td>0.833333</td>\n      <td>0.895833</td>\n    </tr>\n    <tr>\n      <th>2</th>\n      <td>3</td>\n      <td>Practicas Preprofesionales</td>\n      <td>PPP</td>\n      <td>33635</td>\n      <td>Jorge Martinez</td>\n      <td>JM</td>\n      <td>Emergencia</td>\n      <td>9</td>\n      <td>2</td>\n      <td>B</td>\n      <td>Si</td>\n      <td>No</td>\n      <td>0.541667</td>\n      <td>0.625000</td>\n    </tr>\n    <tr>\n      <th>3</th>\n      <td>4</td>\n      <td>Tecnologias Emergentes</td>\n      <td>TE</td>\n      <td>46565</td>\n      <td>Diego Iquira</td>\n      <td>DI</td>\n      <td>Oficial</td>\n      <td>9</td>\n      <td>3</td>\n      <td>A</td>\n      <td>Si</td>\n      <td>No</td>\n      <td>0.625000</td>\n      <td>0.687500</td>\n    </tr>\n    <tr>\n      <th>4</th>\n      <td>5</td>\n      <td>Planeamiento de Recursos Empresariales</td>\n      <td>PRE</td>\n      <td>78578</td>\n      <td>Jose Esquicha</td>\n      <td>JE</td>\n      <td>Sustituto</td>\n      <td>9</td>\n      <td>4</td>\n      <td>A</td>\n      <td>Si</td>\n      <td>No</td>\n      <td>0.770833</td>\n      <td>0.833333</td>\n    </tr>\n    <tr>\n      <th>5</th>\n      <td>6</td>\n      <td>Gestion de Proyectos</td>\n      <td>GP</td>\n      <td>78354</td>\n      <td>Freddy Delgado</td>\n      <td>FD</td>\n      <td>Oficial</td>\n      <td>9</td>\n      <td>4</td>\n      <td>B</td>\n      <td>No</td>\n      <td>Si</td>\n      <td>0.291667</td>\n      <td>0.354167</td>\n    </tr>\n    <tr>\n      <th>6</th>\n      <td>7</td>\n      <td>Seguridad de la Informacion</td>\n      <td>SINFO</td>\n      <td>88678</td>\n      <td>Eveling Castro</td>\n      <td>EC</td>\n      <td>Oficial</td>\n      <td>10</td>\n      <td>3</td>\n      <td>B</td>\n      <td>Si</td>\n      <td>No</td>\n      <td>0.625000</td>\n      <td>0.708333</td>\n    </tr>\n    <tr>\n      <th>7</th>\n      <td>8</td>\n      <td>Gestion de Riesgos en Tecnologias de la Inform...</td>\n      <td>GRTI</td>\n      <td>53738</td>\n      <td>Karina Rosas</td>\n      <td>KR</td>\n      <td>Oficial</td>\n      <td>10</td>\n      <td>2</td>\n      <td>A</td>\n      <td>Si</td>\n      <td>No</td>\n      <td>0.687500</td>\n      <td>0.750000</td>\n    </tr>\n    <tr>\n      <th>8</th>\n      <td>9</td>\n      <td>Organización y Metodos</td>\n      <td>OM</td>\n      <td>68672</td>\n      <td>Javier Angulo</td>\n      <td>JA</td>\n      <td>Emergencia</td>\n      <td>10</td>\n      <td>2</td>\n      <td>B</td>\n      <td>No</td>\n      <td>No</td>\n      <td>0.770833</td>\n      <td>0.833333</td>\n    </tr>\n    <tr>\n      <th>9</th>\n      <td>10</td>\n      <td>Proyecto de Fin de Carrera</td>\n      <td>PFC</td>\n      <td>45827</td>\n      <td>Nestor Gamarra</td>\n      <td>NG</td>\n      <td>Sustituto</td>\n      <td>10</td>\n      <td>3</td>\n      <td>C</td>\n      <td>No</td>\n      <td>No</td>\n      <td>0.458333</td>\n      <td>0.541667</td>\n    </tr>\n    <tr>\n      <th>10</th>\n      <td>11</td>\n      <td>Investigacion en Ingenieria II</td>\n      <td>II2</td>\n      <td>25232</td>\n      <td>Guillermo Calderon</td>\n      <td>GC</td>\n      <td>Oficial</td>\n      <td>10</td>\n      <td>4</td>\n      <td>B</td>\n      <td>Si</td>\n      <td>No</td>\n      <td>0.458333</td>\n      <td>0.520833</td>\n    </tr>\n    <tr>\n      <th>11</th>\n      <td>12</td>\n      <td>Auditoria de Sistemas y Tecnologias de la Info...</td>\n      <td>ASTI</td>\n      <td>52452</td>\n      <td>Oscar Ramirez</td>\n      <td>OR</td>\n      <td>Oficial</td>\n      <td>10</td>\n      <td>3</td>\n      <td>C</td>\n      <td>Si</td>\n      <td>No</td>\n      <td>0.750000</td>\n      <td>0.833333</td>\n    </tr>\n    <tr>\n      <th>12</th>\n      <td>13</td>\n      <td>Gestion de Procesos de Negocio</td>\n      <td>GPN</td>\n      <td>46565</td>\n      <td>Diego Iquira</td>\n      <td>DI</td>\n      <td>Oficial</td>\n      <td>7</td>\n      <td>4</td>\n      <td>A</td>\n      <td>Si</td>\n      <td>No</td>\n      <td>0.750000</td>\n      <td>0.833333</td>\n    </tr>\n    <tr>\n      <th>13</th>\n      <td>14</td>\n      <td>Sistemas Operativos</td>\n      <td>SO</td>\n      <td>78354</td>\n      <td>Freddy Delgado</td>\n      <td>FD</td>\n      <td>Oficial</td>\n      <td>7</td>\n      <td>4</td>\n      <td>B</td>\n      <td>Si</td>\n      <td>No</td>\n      <td>0.833333</td>\n      <td>0.895833</td>\n    </tr>\n    <tr>\n      <th>14</th>\n      <td>15</td>\n      <td>Ingenieria de Sistemas y Sociedad</td>\n      <td>ISS</td>\n      <td>78578</td>\n      <td>Jose Esquicha</td>\n      <td>JE</td>\n      <td>Sustituto</td>\n      <td>7</td>\n      <td>2</td>\n      <td>C</td>\n      <td>Si</td>\n      <td>Si</td>\n      <td>0.291667</td>\n      <td>0.354167</td>\n    </tr>\n    <tr>\n      <th>15</th>\n      <td>16</td>\n      <td>Tecnologias Moviles</td>\n      <td>TM</td>\n      <td>45245</td>\n      <td>Karim Paredes</td>\n      <td>KP</td>\n      <td>Emergencia</td>\n      <td>7</td>\n      <td>3</td>\n      <td>A</td>\n      <td>Si</td>\n      <td>No</td>\n      <td>0.770833</td>\n      <td>0.833333</td>\n    </tr>\n    <tr>\n      <th>16</th>\n      <td>17</td>\n      <td>Testing, Implantacion y Mantenimiento de Sistemas</td>\n      <td>TIMS</td>\n      <td>52452</td>\n      <td>Oscar Ramirez</td>\n      <td>OR</td>\n      <td>Oficial</td>\n      <td>7</td>\n      <td>3</td>\n      <td>B</td>\n      <td>No</td>\n      <td>No</td>\n      <td>0.625000</td>\n      <td>0.708333</td>\n    </tr>\n    <tr>\n      <th>17</th>\n      <td>18</td>\n      <td>Sistemas Inteligenctes</td>\n      <td>SINT</td>\n      <td>52452</td>\n      <td>Oscar Ramirez</td>\n      <td>OR</td>\n      <td>Oficial</td>\n      <td>8</td>\n      <td>2</td>\n      <td>A</td>\n      <td>Si</td>\n      <td>No</td>\n      <td>0.770833</td>\n      <td>0.833333</td>\n    </tr>\n    <tr>\n      <th>18</th>\n      <td>19</td>\n      <td>Iteraccion Humano-Computador</td>\n      <td>IHC</td>\n      <td>68672</td>\n      <td>Javier Angulo</td>\n      <td>JA</td>\n      <td>Emergencia</td>\n      <td>8</td>\n      <td>3</td>\n      <td>A</td>\n      <td>Si</td>\n      <td>Si</td>\n      <td>0.291667</td>\n      <td>0.354167</td>\n    </tr>\n    <tr>\n      <th>19</th>\n      <td>20</td>\n      <td>Inteligencia de Negocios</td>\n      <td>IN</td>\n      <td>45827</td>\n      <td>Nestor Gamarra</td>\n      <td>NG</td>\n      <td>Sustituto</td>\n      <td>8</td>\n      <td>4</td>\n      <td>B</td>\n      <td>No</td>\n      <td>No</td>\n      <td>0.625000</td>\n      <td>0.708333</td>\n    </tr>\n    <tr>\n      <th>20</th>\n      <td>21</td>\n      <td>Fundamentos de Proyectos de Sistemas de Inform...</td>\n      <td>FPSI</td>\n      <td>33635</td>\n      <td>Jorge Martinez</td>\n      <td>JM</td>\n      <td>Emergencia</td>\n      <td>8</td>\n      <td>4</td>\n      <td>C</td>\n      <td>No</td>\n      <td>No</td>\n      <td>0.625000</td>\n      <td>0.708333</td>\n    </tr>\n    <tr>\n      <th>21</th>\n      <td>22</td>\n      <td>Gestion de Sistemas y Tecnologias de la Inform...</td>\n      <td>GSTI</td>\n      <td>43525</td>\n      <td>Jose Sulla</td>\n      <td>JS</td>\n      <td>Oficial</td>\n      <td>8</td>\n      <td>4</td>\n      <td>A</td>\n      <td>Si</td>\n      <td>No</td>\n      <td>0.458333</td>\n      <td>0.541667</td>\n    </tr>\n    <tr>\n      <th>22</th>\n      <td>23</td>\n      <td>Gestion del Conocimiento</td>\n      <td>GC</td>\n      <td>43525</td>\n      <td>Jose Sulla</td>\n      <td>JS</td>\n      <td>Oficial</td>\n      <td>8</td>\n      <td>2</td>\n      <td>B</td>\n      <td>Si</td>\n      <td>Si</td>\n      <td>0.625000</td>\n      <td>0.687500</td>\n    </tr>\n    <tr>\n      <th>23</th>\n      <td>24</td>\n      <td>Innovacion y Emprendedurismo</td>\n      <td>IE</td>\n      <td>25232</td>\n      <td>Guillermo Calderon</td>\n      <td>GC</td>\n      <td>Oficial</td>\n      <td>8</td>\n      <td>3</td>\n      <td>A</td>\n      <td>No</td>\n      <td>No</td>\n      <td>0.625000</td>\n      <td>0.687500</td>\n    </tr>\n    <tr>\n      <th>24</th>\n      <td>25</td>\n      <td>Optimizacion de Operaciones</td>\n      <td>OO</td>\n      <td>33635</td>\n      <td>Jorge Martinez</td>\n      <td>JM</td>\n      <td>Emergencia</td>\n      <td>8</td>\n      <td>4</td>\n      <td>C</td>\n      <td>Si</td>\n      <td>No</td>\n      <td>0.458333</td>\n      <td>0.520833</td>\n    </tr>\n    <tr>\n      <th>25</th>\n      <td>26</td>\n      <td>Análisis y Diseño de Sistemas</td>\n      <td>ADS</td>\n      <td>45827</td>\n      <td>Nestor Gamarra</td>\n      <td>NG</td>\n      <td>Sustituto</td>\n      <td>5</td>\n      <td>3</td>\n      <td>B</td>\n      <td>Si</td>\n      <td>Si</td>\n      <td>0.541667</td>\n      <td>0.625000</td>\n    </tr>\n    <tr>\n      <th>26</th>\n      <td>27</td>\n      <td>Algoritmos y Estructura de Datos</td>\n      <td>AED</td>\n      <td>25232</td>\n      <td>Guillermo Calderon</td>\n      <td>GC</td>\n      <td>Oficial</td>\n      <td>5</td>\n      <td>4</td>\n      <td>C</td>\n      <td>No</td>\n      <td>No</td>\n      <td>0.625000</td>\n      <td>0.687500</td>\n    </tr>\n    <tr>\n      <th>27</th>\n      <td>28</td>\n      <td>Computación en Red II</td>\n      <td>CR2</td>\n      <td>53738</td>\n      <td>Karina Rosas</td>\n      <td>KR</td>\n      <td>Oficial</td>\n      <td>5</td>\n      <td>3</td>\n      <td>B</td>\n      <td>Si</td>\n      <td>Si</td>\n      <td>0.458333</td>\n      <td>0.541667</td>\n    </tr>\n    <tr>\n      <th>28</th>\n      <td>29</td>\n      <td>Sistemas de Información Administrativa I</td>\n      <td>SIA</td>\n      <td>46565</td>\n      <td>Diego Iquira</td>\n      <td>DI</td>\n      <td>Oficial</td>\n      <td>5</td>\n      <td>2</td>\n      <td>A</td>\n      <td>Si</td>\n      <td>Si</td>\n      <td>0.333333</td>\n      <td>0.395833</td>\n    </tr>\n    <tr>\n      <th>29</th>\n      <td>30</td>\n      <td>Computación en Red III</td>\n      <td>CR3</td>\n      <td>53738</td>\n      <td>Karina Rosas</td>\n      <td>KR</td>\n      <td>Oficial</td>\n      <td>6</td>\n      <td>3</td>\n      <td>A</td>\n      <td>Si</td>\n      <td>No</td>\n      <td>0.458333</td>\n      <td>0.520833</td>\n    </tr>\n    <tr>\n      <th>30</th>\n      <td>31</td>\n      <td>Gestión de Datos e Información</td>\n      <td>GDI</td>\n      <td>25232</td>\n      <td>Guillermo Calderon</td>\n      <td>GC</td>\n      <td>Oficial</td>\n      <td>6</td>\n      <td>4</td>\n      <td>B</td>\n      <td>No</td>\n      <td>No</td>\n      <td>0.625000</td>\n      <td>0.687500</td>\n    </tr>\n    <tr>\n      <th>31</th>\n      <td>32</td>\n      <td>Infraestructura de Tecnologías de la Información</td>\n      <td>ITI</td>\n      <td>78578</td>\n      <td>Jose Esquicha</td>\n      <td>JE</td>\n      <td>Sustituto</td>\n      <td>6</td>\n      <td>3</td>\n      <td>C</td>\n      <td>No</td>\n      <td>Si</td>\n      <td>0.458333</td>\n      <td>0.541667</td>\n    </tr>\n    <tr>\n      <th>32</th>\n      <td>33</td>\n      <td>Desarrollo de Aplicaciones</td>\n      <td>DA</td>\n      <td>43525</td>\n      <td>Jose Sulla</td>\n      <td>JS</td>\n      <td>Oficial</td>\n      <td>6</td>\n      <td>4</td>\n      <td>A</td>\n      <td>Si</td>\n      <td>No</td>\n      <td>0.333333</td>\n      <td>0.395833</td>\n    </tr>\n    <tr>\n      <th>33</th>\n      <td>34</td>\n      <td>Sistemas de Información Administrativa II</td>\n      <td>SIA2</td>\n      <td>46565</td>\n      <td>Diego Iquira</td>\n      <td>DI</td>\n      <td>Oficial</td>\n      <td>6</td>\n      <td>2</td>\n      <td>A</td>\n      <td>Si</td>\n      <td>No</td>\n      <td>0.458333</td>\n      <td>0.520833</td>\n    </tr>\n  </tbody>\n</table>\n</div>"
     },
     "execution_count": 4,
     "metadata": {},
     "output_type": "execute_result"
    }
   ],
   "source": [
    "data_csv = pd.read_csv('./cursos.csv')\n",
    "data_csv"
   ]
  },
  {
   "cell_type": "code",
   "execution_count": 5,
   "metadata": {
    "colab": {
     "base_uri": "https://localhost:8080/",
     "height": 655
    },
    "id": "AnpwIRmRruqu",
    "outputId": "efae7147-4bd3-4d08-e345-b455711c9818"
   },
   "outputs": [
    {
     "data": {
      "text/plain": "     cod_student              nom_student  num_course_desirability  \\\n0     2018234225  Jorge Rodriguez Cornejo                        4   \n1     2018234225  Jorge Rodriguez Cornejo                        4   \n2     2018234225  Jorge Rodriguez Cornejo                        4   \n3     2018234225  Jorge Rodriguez Cornejo                        4   \n4     2018234225  Jorge Rodriguez Cornejo                        4   \n..           ...                      ...                      ...   \n131   2018376842     Diego Ticona Alarcon                        4   \n132   2018376842     Diego Ticona Alarcon                        4   \n133   2018376842     Diego Ticona Alarcon                        4   \n134   2018376842     Diego Ticona Alarcon                        4   \n135   2018376842     Diego Ticona Alarcon                        4   \n\n    course_desirability hour_desirability cod_curso  num_semestre  \n0              Bastante             Tarde       II1             9  \n1              Bastante             Tarde       II2             9  \n2                Normal             Tarde       PPP             9  \n3              Bastante             Tarde        TE             9  \n4                Normal            Mañana       PFC             9  \n..                  ...               ...       ...           ...  \n131              Normal             Noche       CR3             6  \n132              Normal            Mañana       GDI             6  \n133              Normal             Noche       ITI             6  \n134              Normal             Tarde        DA             6  \n135                Poco             Noche      SIA2             6  \n\n[136 rows x 7 columns]",
      "text/html": "<div>\n<style scoped>\n    .dataframe tbody tr th:only-of-type {\n        vertical-align: middle;\n    }\n\n    .dataframe tbody tr th {\n        vertical-align: top;\n    }\n\n    .dataframe thead th {\n        text-align: right;\n    }\n</style>\n<table border=\"1\" class=\"dataframe\">\n  <thead>\n    <tr style=\"text-align: right;\">\n      <th></th>\n      <th>cod_student</th>\n      <th>nom_student</th>\n      <th>num_course_desirability</th>\n      <th>course_desirability</th>\n      <th>hour_desirability</th>\n      <th>cod_curso</th>\n      <th>num_semestre</th>\n    </tr>\n  </thead>\n  <tbody>\n    <tr>\n      <th>0</th>\n      <td>2018234225</td>\n      <td>Jorge Rodriguez Cornejo</td>\n      <td>4</td>\n      <td>Bastante</td>\n      <td>Tarde</td>\n      <td>II1</td>\n      <td>9</td>\n    </tr>\n    <tr>\n      <th>1</th>\n      <td>2018234225</td>\n      <td>Jorge Rodriguez Cornejo</td>\n      <td>4</td>\n      <td>Bastante</td>\n      <td>Tarde</td>\n      <td>II2</td>\n      <td>9</td>\n    </tr>\n    <tr>\n      <th>2</th>\n      <td>2018234225</td>\n      <td>Jorge Rodriguez Cornejo</td>\n      <td>4</td>\n      <td>Normal</td>\n      <td>Tarde</td>\n      <td>PPP</td>\n      <td>9</td>\n    </tr>\n    <tr>\n      <th>3</th>\n      <td>2018234225</td>\n      <td>Jorge Rodriguez Cornejo</td>\n      <td>4</td>\n      <td>Bastante</td>\n      <td>Tarde</td>\n      <td>TE</td>\n      <td>9</td>\n    </tr>\n    <tr>\n      <th>4</th>\n      <td>2018234225</td>\n      <td>Jorge Rodriguez Cornejo</td>\n      <td>4</td>\n      <td>Normal</td>\n      <td>Mañana</td>\n      <td>PFC</td>\n      <td>9</td>\n    </tr>\n    <tr>\n      <th>...</th>\n      <td>...</td>\n      <td>...</td>\n      <td>...</td>\n      <td>...</td>\n      <td>...</td>\n      <td>...</td>\n      <td>...</td>\n    </tr>\n    <tr>\n      <th>131</th>\n      <td>2018376842</td>\n      <td>Diego Ticona Alarcon</td>\n      <td>4</td>\n      <td>Normal</td>\n      <td>Noche</td>\n      <td>CR3</td>\n      <td>6</td>\n    </tr>\n    <tr>\n      <th>132</th>\n      <td>2018376842</td>\n      <td>Diego Ticona Alarcon</td>\n      <td>4</td>\n      <td>Normal</td>\n      <td>Mañana</td>\n      <td>GDI</td>\n      <td>6</td>\n    </tr>\n    <tr>\n      <th>133</th>\n      <td>2018376842</td>\n      <td>Diego Ticona Alarcon</td>\n      <td>4</td>\n      <td>Normal</td>\n      <td>Noche</td>\n      <td>ITI</td>\n      <td>6</td>\n    </tr>\n    <tr>\n      <th>134</th>\n      <td>2018376842</td>\n      <td>Diego Ticona Alarcon</td>\n      <td>4</td>\n      <td>Normal</td>\n      <td>Tarde</td>\n      <td>DA</td>\n      <td>6</td>\n    </tr>\n    <tr>\n      <th>135</th>\n      <td>2018376842</td>\n      <td>Diego Ticona Alarcon</td>\n      <td>4</td>\n      <td>Poco</td>\n      <td>Noche</td>\n      <td>SIA2</td>\n      <td>6</td>\n    </tr>\n  </tbody>\n</table>\n<p>136 rows × 7 columns</p>\n</div>"
     },
     "execution_count": 5,
     "metadata": {},
     "output_type": "execute_result"
    }
   ],
   "source": [
    "a_data_csv = pd.read_csv('./alumnos.csv')\n",
    "a_data_csv"
   ]
  },
  {
   "cell_type": "markdown",
   "source": [
    "## Conversion de CSV a JSON"
   ],
   "metadata": {
    "collapsed": false
   }
  },
  {
   "cell_type": "code",
   "execution_count": 6,
   "outputs": [],
   "source": [
    "import csv\n",
    "import json"
   ],
   "metadata": {
    "collapsed": false
   }
  },
  {
   "cell_type": "code",
   "execution_count": 20,
   "metadata": {
    "id": "uDObCH8yeSmK"
   },
   "outputs": [],
   "source": [
    "def csv_a_json(csv_file_path, json_file_path, type_f):\n",
    "    data_dict = {}\n",
    "    if type_f == 'curso':\n",
    "        type_f = 'id_curso'\n",
    "    else:\n",
    "        type_f = 'cod_student'\n",
    "  \n",
    "    # Accedemos al archivo csv\n",
    "    with open(csv_file_path, encoding = 'utf-8-sig') as csv_file_handler:\n",
    "        csv_reader = csv.DictReader(csv_file_handler)\n",
    " \n",
    "        # Convertimos cada fila a un diccionario\n",
    "        for rows in csv_reader:\n",
    "          # Asignamos una clave primaria del archivo csv\n",
    "            key = rows[type_f]\n",
    "            data_dict[key] = rows\n",
    " \n",
    "    \n",
    "    # Grabamos los datos en el archivo json\n",
    "    with open(json_file_path, 'w', encoding = 'utf-8') as json_file_handler:\n",
    "        #Step 4\n",
    "        json_file_handler.write(json.dumps(data_dict, indent = 4))"
   ]
  },
  {
   "cell_type": "markdown",
   "metadata": {
    "id": "hbKZK8zEr2kf"
   },
   "source": [
    "## Conversion Cursos"
   ]
  },
  {
   "cell_type": "code",
   "execution_count": 21,
   "metadata": {
    "colab": {
     "base_uri": "https://localhost:8080/"
    },
    "id": "9QCrepd3efG3",
    "outputId": "91477c0e-cb41-461d-f911-a48c2e507312"
   },
   "outputs": [],
   "source": [
    "csv_file_path = 'cursos.csv'\n",
    "json_file_path = 'jsonFolder/cursos.json'\n",
    " \n",
    "csv_a_json(csv_file_path, json_file_path, 'curso')"
   ]
  },
  {
   "cell_type": "code",
   "execution_count": 22,
   "metadata": {
    "colab": {
     "base_uri": "https://localhost:8080/"
    },
    "id": "7eSc8C9mmmbC",
    "outputId": "b4ecd6d4-e3eb-4d7d-9af9-e179105c7d4e"
   },
   "outputs": [
    {
     "name": "stdout",
     "output_type": "stream",
     "text": [
      "{\n",
      "    \"1\": {\n",
      "        \"id_curso\": \"1\",\n",
      "        \"nom_curso\": \"Investigacion en Ingenieria I\",\n",
      "        \"cod_curso\": \"II1\",\n",
      "        \"id_prof\": \"43525\",\n",
      "        \"nom_prof\": \"Jose Sulla\",\n",
      "        \"cod_prof\": \"JS\",\n",
      "        \"tip_prof\": \"Oficial\",\n",
      "        \"num_semestre\": \"9\",\n",
      "        \"num_creditos\": \"3\",\n",
      "        \"seccion\": \"A\",\n",
      "        \"mandatory\": \"Si\",\n",
      "        \"prerrequisito\": \"Si\",\n",
      "        \"hora_inicio\": \"0.333333333\",\n",
      "        \"hora_fin\": \"0.395833333\"\n",
      "    },\n",
      "    \"2\": {\n",
      "        \"id_curso\": \"2\",\n",
      "        \"nom_curso\": \"Planeamiento Estrategico de Sistemas y Tecnologias de la Informaci\\u00f3n\",\n",
      "        \"cod_curso\": \"PESTI\",\n",
      "        \"id_prof\": \"45245\",\n",
      "        \"nom_prof\": \"Karim Paredes\",\n",
      "        \"cod_prof\": \"KP\",\n",
      "        \"tip_prof\": \"Emergencia\",\n",
      "        \"num_semestre\": \"9\",\n",
      "        \"num_creditos\": \"2\",\n",
      "        \"seccion\": \"C\",\n",
      "        \"mandatory\": \"No\",\n",
      "        \"prerrequisito\": \"No\",\n",
      "        \"hora_inicio\": \"0.833333333\",\n",
      "        \"hora_fin\": \"0.895833333\"\n",
      "    },\n",
      "    \"3\": {\n",
      "        \"id_curso\": \"3\",\n",
      "        \"nom_curso\": \"Practicas Preprofesionales\",\n",
      "        \"cod_curso\": \"PPP\",\n",
      "        \"id_prof\": \"33635\",\n",
      "        \"nom_prof\": \"Jorge Martinez\",\n",
      "        \"cod_prof\": \"JM\",\n",
      "        \"tip_prof\": \"Emergencia\",\n",
      "        \"num_semestre\": \"9\",\n",
      "        \"num_creditos\": \"2\",\n",
      "        \"seccion\": \"B\",\n",
      "        \"mandatory\": \"Si\",\n",
      "        \"prerrequisito\": \"No\",\n",
      "        \"hora_inicio\": \"0.541666667\",\n",
      "        \"hora_fin\": \"0.625\"\n",
      "    },\n",
      "    \"4\": {\n",
      "        \"id_curso\": \"4\",\n",
      "        \"nom_curso\": \"Tecnologias Emergentes\",\n",
      "        \"cod_curso\": \"TE\",\n",
      "        \"id_prof\": \"46565\",\n",
      "        \"nom_prof\": \"Diego Iquira\",\n",
      "        \"cod_prof\": \"DI\",\n",
      "        \"tip_prof\": \"Oficial\",\n",
      "        \"num_semestre\": \"9\",\n",
      "        \"num_creditos\": \"3\",\n",
      "        \"seccion\": \"A\",\n",
      "        \"mandatory\": \"Si\",\n",
      "        \"prerrequisito\": \"No\",\n",
      "        \"hora_inicio\": \"0.625\",\n",
      "        \"hora_fin\": \"0.6875\"\n",
      "    },\n",
      "    \"5\": {\n",
      "        \"id_curso\": \"5\",\n",
      "        \"nom_curso\": \"Planeamiento de Recursos Empresariales\",\n",
      "        \"cod_curso\": \"PRE\",\n",
      "        \"id_prof\": \"78578\",\n",
      "        \"nom_prof\": \"Jose Esquicha\",\n",
      "        \"cod_prof\": \"JE\",\n",
      "        \"tip_prof\": \"Sustituto\",\n",
      "        \"num_semestre\": \"9\",\n",
      "        \"num_creditos\": \"4\",\n",
      "        \"seccion\": \"A\",\n",
      "        \"mandatory\": \"Si\",\n",
      "        \"prerrequisito\": \"No\",\n",
      "        \"hora_inicio\": \"0.770833333\",\n",
      "        \"hora_fin\": \"0.833333333\"\n",
      "    },\n",
      "    \"6\": {\n",
      "        \"id_curso\": \"6\",\n",
      "        \"nom_curso\": \"Gestion de Proyectos\",\n",
      "        \"cod_curso\": \"GP\",\n",
      "        \"id_prof\": \"78354\",\n",
      "        \"nom_prof\": \"Freddy Delgado\",\n",
      "        \"cod_prof\": \"FD\",\n",
      "        \"tip_prof\": \"Oficial\",\n",
      "        \"num_semestre\": \"9\",\n",
      "        \"num_creditos\": \"4\",\n",
      "        \"seccion\": \"B\",\n",
      "        \"mandatory\": \"No\",\n",
      "        \"prerrequisito\": \"Si\",\n",
      "        \"hora_inicio\": \"0.291666667\",\n",
      "        \"hora_fin\": \"0.354166667\"\n",
      "    },\n",
      "    \"7\": {\n",
      "        \"id_curso\": \"7\",\n",
      "        \"nom_curso\": \"Seguridad de la Informacion\",\n",
      "        \"cod_curso\": \"SINFO\",\n",
      "        \"id_prof\": \"88678\",\n",
      "        \"nom_prof\": \"Eveling Castro\",\n",
      "        \"cod_prof\": \"EC\",\n",
      "        \"tip_prof\": \"Oficial\",\n",
      "        \"num_semestre\": \"10\",\n",
      "        \"num_creditos\": \"3\",\n",
      "        \"seccion\": \"B\",\n",
      "        \"mandatory\": \"Si\",\n",
      "        \"prerrequisito\": \"No\",\n",
      "        \"hora_inicio\": \"0.625\",\n",
      "        \"hora_fin\": \"0.708333333\"\n",
      "    },\n",
      "    \"8\": {\n",
      "        \"id_curso\": \"8\",\n",
      "        \"nom_curso\": \"Gestion de Riesgos en Tecnologias de la Informacion\",\n",
      "        \"cod_curso\": \"GRTI\",\n",
      "        \"id_prof\": \"53738\",\n",
      "        \"nom_prof\": \"Karina Rosas\",\n",
      "        \"cod_prof\": \"KR\",\n",
      "        \"tip_prof\": \"Oficial\",\n",
      "        \"num_semestre\": \"10\",\n",
      "        \"num_creditos\": \"2\",\n",
      "        \"seccion\": \"A\",\n",
      "        \"mandatory\": \"Si\",\n",
      "        \"prerrequisito\": \"No\",\n",
      "        \"hora_inicio\": \"0.6875\",\n",
      "        \"hora_fin\": \"0.75\"\n",
      "    },\n",
      "    \"9\": {\n",
      "        \"id_curso\": \"9\",\n",
      "        \"nom_curso\": \"Organizaci\\u00f3n y Metodos\",\n",
      "        \"cod_curso\": \"OM\",\n",
      "        \"id_prof\": \"68672\",\n",
      "        \"nom_prof\": \"Javier Angulo\",\n",
      "        \"cod_prof\": \"JA\",\n",
      "        \"tip_prof\": \"Emergencia\",\n",
      "        \"num_semestre\": \"10\",\n",
      "        \"num_creditos\": \"2\",\n",
      "        \"seccion\": \"B\",\n",
      "        \"mandatory\": \"No\",\n",
      "        \"prerrequisito\": \"No\",\n",
      "        \"hora_inicio\": \"0.770833333\",\n",
      "        \"hora_fin\": \"0.833333333\"\n",
      "    },\n",
      "    \"10\": {\n",
      "        \"id_curso\": \"10\",\n",
      "        \"nom_curso\": \"Proyecto de Fin de Carrera\",\n",
      "        \"cod_curso\": \"PFC\",\n",
      "        \"id_prof\": \"45827\",\n",
      "        \"nom_prof\": \"Nestor Gamarra\",\n",
      "        \"cod_prof\": \"NG\",\n",
      "        \"tip_prof\": \"Sustituto\",\n",
      "        \"num_semestre\": \"10\",\n",
      "        \"num_creditos\": \"3\",\n",
      "        \"seccion\": \"C\",\n",
      "        \"mandatory\": \"No\",\n",
      "        \"prerrequisito\": \"No\",\n",
      "        \"hora_inicio\": \"0.458333333\",\n",
      "        \"hora_fin\": \"0.541666667\"\n",
      "    },\n",
      "    \"11\": {\n",
      "        \"id_curso\": \"11\",\n",
      "        \"nom_curso\": \"Investigacion en Ingenieria II\",\n",
      "        \"cod_curso\": \"II2\",\n",
      "        \"id_prof\": \"25232\",\n",
      "        \"nom_prof\": \"Guillermo Calderon\",\n",
      "        \"cod_prof\": \"GC\",\n",
      "        \"tip_prof\": \"Oficial\",\n",
      "        \"num_semestre\": \"10\",\n",
      "        \"num_creditos\": \"4\",\n",
      "        \"seccion\": \"B\",\n",
      "        \"mandatory\": \"Si\",\n",
      "        \"prerrequisito\": \"No\",\n",
      "        \"hora_inicio\": \"0.458333333\",\n",
      "        \"hora_fin\": \"0.520833333\"\n",
      "    },\n",
      "    \"12\": {\n",
      "        \"id_curso\": \"12\",\n",
      "        \"nom_curso\": \"Auditoria de Sistemas y Tecnologias de la Informacion\",\n",
      "        \"cod_curso\": \"ASTI\",\n",
      "        \"id_prof\": \"52452\",\n",
      "        \"nom_prof\": \"Oscar Ramirez\",\n",
      "        \"cod_prof\": \"OR\",\n",
      "        \"tip_prof\": \"Oficial\",\n",
      "        \"num_semestre\": \"10\",\n",
      "        \"num_creditos\": \"3\",\n",
      "        \"seccion\": \"C\",\n",
      "        \"mandatory\": \"Si\",\n",
      "        \"prerrequisito\": \"No\",\n",
      "        \"hora_inicio\": \"0.75\",\n",
      "        \"hora_fin\": \"0.833333333\"\n",
      "    },\n",
      "    \"13\": {\n",
      "        \"id_curso\": \"13\",\n",
      "        \"nom_curso\": \"Gestion de Procesos de Negocio\",\n",
      "        \"cod_curso\": \"GPN\",\n",
      "        \"id_prof\": \"46565\",\n",
      "        \"nom_prof\": \"Diego Iquira\",\n",
      "        \"cod_prof\": \"DI\",\n",
      "        \"tip_prof\": \"Oficial\",\n",
      "        \"num_semestre\": \"7\",\n",
      "        \"num_creditos\": \"4\",\n",
      "        \"seccion\": \"A\",\n",
      "        \"mandatory\": \"Si\",\n",
      "        \"prerrequisito\": \"No\",\n",
      "        \"hora_inicio\": \"0.75\",\n",
      "        \"hora_fin\": \"0.833333333\"\n",
      "    },\n",
      "    \"14\": {\n",
      "        \"id_curso\": \"14\",\n",
      "        \"nom_curso\": \"Sistemas Operativos\",\n",
      "        \"cod_curso\": \"SO\",\n",
      "        \"id_prof\": \"78354\",\n",
      "        \"nom_prof\": \"Freddy Delgado\",\n",
      "        \"cod_prof\": \"FD\",\n",
      "        \"tip_prof\": \"Oficial\",\n",
      "        \"num_semestre\": \"7\",\n",
      "        \"num_creditos\": \"4\",\n",
      "        \"seccion\": \"B\",\n",
      "        \"mandatory\": \"Si\",\n",
      "        \"prerrequisito\": \"No\",\n",
      "        \"hora_inicio\": \"0.833333333\",\n",
      "        \"hora_fin\": \"0.895833333\"\n",
      "    },\n",
      "    \"15\": {\n",
      "        \"id_curso\": \"15\",\n",
      "        \"nom_curso\": \"Ingenieria de Sistemas y Sociedad\",\n",
      "        \"cod_curso\": \"ISS\",\n",
      "        \"id_prof\": \"78578\",\n",
      "        \"nom_prof\": \"Jose Esquicha\",\n",
      "        \"cod_prof\": \"JE\",\n",
      "        \"tip_prof\": \"Sustituto\",\n",
      "        \"num_semestre\": \"7\",\n",
      "        \"num_creditos\": \"2\",\n",
      "        \"seccion\": \"C\",\n",
      "        \"mandatory\": \"Si\",\n",
      "        \"prerrequisito\": \"Si\",\n",
      "        \"hora_inicio\": \"0.291666667\",\n",
      "        \"hora_fin\": \"0.354166667\"\n",
      "    },\n",
      "    \"16\": {\n",
      "        \"id_curso\": \"16\",\n",
      "        \"nom_curso\": \"Tecnologias Moviles\",\n",
      "        \"cod_curso\": \"TM\",\n",
      "        \"id_prof\": \"45245\",\n",
      "        \"nom_prof\": \"Karim Paredes\",\n",
      "        \"cod_prof\": \"KP\",\n",
      "        \"tip_prof\": \"Emergencia\",\n",
      "        \"num_semestre\": \"7\",\n",
      "        \"num_creditos\": \"3\",\n",
      "        \"seccion\": \"A\",\n",
      "        \"mandatory\": \"Si\",\n",
      "        \"prerrequisito\": \"No\",\n",
      "        \"hora_inicio\": \"0.770833333\",\n",
      "        \"hora_fin\": \"0.833333333\"\n",
      "    },\n",
      "    \"17\": {\n",
      "        \"id_curso\": \"17\",\n",
      "        \"nom_curso\": \"Testing, Implantacion y Mantenimiento de Sistemas\",\n",
      "        \"cod_curso\": \"TIMS\",\n",
      "        \"id_prof\": \"52452\",\n",
      "        \"nom_prof\": \"Oscar Ramirez\",\n",
      "        \"cod_prof\": \"OR\",\n",
      "        \"tip_prof\": \"Oficial\",\n",
      "        \"num_semestre\": \"7\",\n",
      "        \"num_creditos\": \"3\",\n",
      "        \"seccion\": \"B\",\n",
      "        \"mandatory\": \"No\",\n",
      "        \"prerrequisito\": \"No\",\n",
      "        \"hora_inicio\": \"0.625\",\n",
      "        \"hora_fin\": \"0.708333333\"\n",
      "    },\n",
      "    \"18\": {\n",
      "        \"id_curso\": \"18\",\n",
      "        \"nom_curso\": \"Sistemas Inteligenctes\",\n",
      "        \"cod_curso\": \"SINT\",\n",
      "        \"id_prof\": \"52452\",\n",
      "        \"nom_prof\": \"Oscar Ramirez\",\n",
      "        \"cod_prof\": \"OR\",\n",
      "        \"tip_prof\": \"Oficial\",\n",
      "        \"num_semestre\": \"8\",\n",
      "        \"num_creditos\": \"2\",\n",
      "        \"seccion\": \"A\",\n",
      "        \"mandatory\": \"Si\",\n",
      "        \"prerrequisito\": \"No\",\n",
      "        \"hora_inicio\": \"0.770833333\",\n",
      "        \"hora_fin\": \"0.833333333\"\n",
      "    },\n",
      "    \"19\": {\n",
      "        \"id_curso\": \"19\",\n",
      "        \"nom_curso\": \"Iteraccion Humano-Computador\",\n",
      "        \"cod_curso\": \"IHC\",\n",
      "        \"id_prof\": \"68672\",\n",
      "        \"nom_prof\": \"Javier Angulo\",\n",
      "        \"cod_prof\": \"JA\",\n",
      "        \"tip_prof\": \"Emergencia\",\n",
      "        \"num_semestre\": \"8\",\n",
      "        \"num_creditos\": \"3\",\n",
      "        \"seccion\": \"A\",\n",
      "        \"mandatory\": \"Si\",\n",
      "        \"prerrequisito\": \"Si\",\n",
      "        \"hora_inicio\": \"0.291666667\",\n",
      "        \"hora_fin\": \"0.354166667\"\n",
      "    },\n",
      "    \"20\": {\n",
      "        \"id_curso\": \"20\",\n",
      "        \"nom_curso\": \"Inteligencia de Negocios\",\n",
      "        \"cod_curso\": \"IN\",\n",
      "        \"id_prof\": \"45827\",\n",
      "        \"nom_prof\": \"Nestor Gamarra\",\n",
      "        \"cod_prof\": \"NG\",\n",
      "        \"tip_prof\": \"Sustituto\",\n",
      "        \"num_semestre\": \"8\",\n",
      "        \"num_creditos\": \"4\",\n",
      "        \"seccion\": \"B\",\n",
      "        \"mandatory\": \"No\",\n",
      "        \"prerrequisito\": \"No\",\n",
      "        \"hora_inicio\": \"0.625\",\n",
      "        \"hora_fin\": \"0.708333333\"\n",
      "    },\n",
      "    \"21\": {\n",
      "        \"id_curso\": \"21\",\n",
      "        \"nom_curso\": \"Fundamentos de Proyectos de Sistemas de Informacion\",\n",
      "        \"cod_curso\": \"FPSI\",\n",
      "        \"id_prof\": \"33635\",\n",
      "        \"nom_prof\": \"Jorge Martinez\",\n",
      "        \"cod_prof\": \"JM\",\n",
      "        \"tip_prof\": \"Emergencia\",\n",
      "        \"num_semestre\": \"8\",\n",
      "        \"num_creditos\": \"4\",\n",
      "        \"seccion\": \"C\",\n",
      "        \"mandatory\": \"No\",\n",
      "        \"prerrequisito\": \"No\",\n",
      "        \"hora_inicio\": \"0.625\",\n",
      "        \"hora_fin\": \"0.708333333\"\n",
      "    },\n",
      "    \"22\": {\n",
      "        \"id_curso\": \"22\",\n",
      "        \"nom_curso\": \"Gestion de Sistemas y Tecnologias de la Informacion\",\n",
      "        \"cod_curso\": \"GSTI\",\n",
      "        \"id_prof\": \"43525\",\n",
      "        \"nom_prof\": \"Jose Sulla\",\n",
      "        \"cod_prof\": \"JS\",\n",
      "        \"tip_prof\": \"Oficial\",\n",
      "        \"num_semestre\": \"8\",\n",
      "        \"num_creditos\": \"4\",\n",
      "        \"seccion\": \"A\",\n",
      "        \"mandatory\": \"Si\",\n",
      "        \"prerrequisito\": \"No\",\n",
      "        \"hora_inicio\": \"0.458333333\",\n",
      "        \"hora_fin\": \"0.541666667\"\n",
      "    },\n",
      "    \"23\": {\n",
      "        \"id_curso\": \"23\",\n",
      "        \"nom_curso\": \"Gestion del Conocimiento\",\n",
      "        \"cod_curso\": \"GC\",\n",
      "        \"id_prof\": \"43525\",\n",
      "        \"nom_prof\": \"Jose Sulla\",\n",
      "        \"cod_prof\": \"JS\",\n",
      "        \"tip_prof\": \"Oficial\",\n",
      "        \"num_semestre\": \"8\",\n",
      "        \"num_creditos\": \"2\",\n",
      "        \"seccion\": \"B\",\n",
      "        \"mandatory\": \"Si\",\n",
      "        \"prerrequisito\": \"Si\",\n",
      "        \"hora_inicio\": \"0.625\",\n",
      "        \"hora_fin\": \"0.6875\"\n",
      "    },\n",
      "    \"24\": {\n",
      "        \"id_curso\": \"24\",\n",
      "        \"nom_curso\": \"Innovacion y Emprendedurismo\",\n",
      "        \"cod_curso\": \"IE\",\n",
      "        \"id_prof\": \"25232\",\n",
      "        \"nom_prof\": \"Guillermo Calderon\",\n",
      "        \"cod_prof\": \"GC\",\n",
      "        \"tip_prof\": \"Oficial\",\n",
      "        \"num_semestre\": \"8\",\n",
      "        \"num_creditos\": \"3\",\n",
      "        \"seccion\": \"A\",\n",
      "        \"mandatory\": \"No\",\n",
      "        \"prerrequisito\": \"No\",\n",
      "        \"hora_inicio\": \"0.625\",\n",
      "        \"hora_fin\": \"0.6875\"\n",
      "    },\n",
      "    \"25\": {\n",
      "        \"id_curso\": \"25\",\n",
      "        \"nom_curso\": \"Optimizacion de Operaciones\",\n",
      "        \"cod_curso\": \"OO\",\n",
      "        \"id_prof\": \"33635\",\n",
      "        \"nom_prof\": \"Jorge Martinez\",\n",
      "        \"cod_prof\": \"JM\",\n",
      "        \"tip_prof\": \"Emergencia\",\n",
      "        \"num_semestre\": \"8\",\n",
      "        \"num_creditos\": \"4\",\n",
      "        \"seccion\": \"C\",\n",
      "        \"mandatory\": \"Si\",\n",
      "        \"prerrequisito\": \"No\",\n",
      "        \"hora_inicio\": \"0.458333333\",\n",
      "        \"hora_fin\": \"0.520833333\"\n",
      "    },\n",
      "    \"26\": {\n",
      "        \"id_curso\": \"26\",\n",
      "        \"nom_curso\": \"An\\u00e1lisis y Dise\\u00f1o de Sistemas\",\n",
      "        \"cod_curso\": \"ADS\",\n",
      "        \"id_prof\": \"45827\",\n",
      "        \"nom_prof\": \"Nestor Gamarra\",\n",
      "        \"cod_prof\": \"NG\",\n",
      "        \"tip_prof\": \"Sustituto\",\n",
      "        \"num_semestre\": \"5\",\n",
      "        \"num_creditos\": \"3\",\n",
      "        \"seccion\": \"B\",\n",
      "        \"mandatory\": \"Si\",\n",
      "        \"prerrequisito\": \"Si\",\n",
      "        \"hora_inicio\": \"0.541666667\",\n",
      "        \"hora_fin\": \"0.625\"\n",
      "    },\n",
      "    \"27\": {\n",
      "        \"id_curso\": \"27\",\n",
      "        \"nom_curso\": \"Algoritmos y Estructura de Datos\",\n",
      "        \"cod_curso\": \"AED\",\n",
      "        \"id_prof\": \"25232\",\n",
      "        \"nom_prof\": \"Guillermo Calderon\",\n",
      "        \"cod_prof\": \"GC\",\n",
      "        \"tip_prof\": \"Oficial\",\n",
      "        \"num_semestre\": \"5\",\n",
      "        \"num_creditos\": \"4\",\n",
      "        \"seccion\": \"C\",\n",
      "        \"mandatory\": \"No\",\n",
      "        \"prerrequisito\": \"No\",\n",
      "        \"hora_inicio\": \"0.625\",\n",
      "        \"hora_fin\": \"0.6875\"\n",
      "    },\n",
      "    \"28\": {\n",
      "        \"id_curso\": \"28\",\n",
      "        \"nom_curso\": \"Computaci\\u00f3n en Red II\",\n",
      "        \"cod_curso\": \"CR2\",\n",
      "        \"id_prof\": \"53738\",\n",
      "        \"nom_prof\": \"Karina Rosas\",\n",
      "        \"cod_prof\": \"KR\",\n",
      "        \"tip_prof\": \"Oficial\",\n",
      "        \"num_semestre\": \"5\",\n",
      "        \"num_creditos\": \"3\",\n",
      "        \"seccion\": \"B\",\n",
      "        \"mandatory\": \"Si\",\n",
      "        \"prerrequisito\": \"Si\",\n",
      "        \"hora_inicio\": \"0.458333333\",\n",
      "        \"hora_fin\": \"0.541666667\"\n",
      "    },\n",
      "    \"29\": {\n",
      "        \"id_curso\": \"29\",\n",
      "        \"nom_curso\": \"Sistemas de Informaci\\u00f3n Administrativa I\",\n",
      "        \"cod_curso\": \"SIA\",\n",
      "        \"id_prof\": \"46565\",\n",
      "        \"nom_prof\": \"Diego Iquira\",\n",
      "        \"cod_prof\": \"DI\",\n",
      "        \"tip_prof\": \"Oficial\",\n",
      "        \"num_semestre\": \"5\",\n",
      "        \"num_creditos\": \"2\",\n",
      "        \"seccion\": \"A\",\n",
      "        \"mandatory\": \"Si\",\n",
      "        \"prerrequisito\": \"Si\",\n",
      "        \"hora_inicio\": \"0.333333333\",\n",
      "        \"hora_fin\": \"0.395833333\"\n",
      "    },\n",
      "    \"30\": {\n",
      "        \"id_curso\": \"30\",\n",
      "        \"nom_curso\": \"Computaci\\u00f3n en Red III\",\n",
      "        \"cod_curso\": \"CR3\",\n",
      "        \"id_prof\": \"53738\",\n",
      "        \"nom_prof\": \"Karina Rosas\",\n",
      "        \"cod_prof\": \"KR\",\n",
      "        \"tip_prof\": \"Oficial\",\n",
      "        \"num_semestre\": \"6\",\n",
      "        \"num_creditos\": \"3\",\n",
      "        \"seccion\": \"A\",\n",
      "        \"mandatory\": \"Si\",\n",
      "        \"prerrequisito\": \"No\",\n",
      "        \"hora_inicio\": \"0.458333333\",\n",
      "        \"hora_fin\": \"0.520833333\"\n",
      "    },\n",
      "    \"31\": {\n",
      "        \"id_curso\": \"31\",\n",
      "        \"nom_curso\": \"Gesti\\u00f3n de Datos e Informaci\\u00f3n\",\n",
      "        \"cod_curso\": \"GDI\",\n",
      "        \"id_prof\": \"25232\",\n",
      "        \"nom_prof\": \"Guillermo Calderon\",\n",
      "        \"cod_prof\": \"GC\",\n",
      "        \"tip_prof\": \"Oficial\",\n",
      "        \"num_semestre\": \"6\",\n",
      "        \"num_creditos\": \"4\",\n",
      "        \"seccion\": \"B\",\n",
      "        \"mandatory\": \"No\",\n",
      "        \"prerrequisito\": \"No\",\n",
      "        \"hora_inicio\": \"0.625\",\n",
      "        \"hora_fin\": \"0.6875\"\n",
      "    },\n",
      "    \"32\": {\n",
      "        \"id_curso\": \"32\",\n",
      "        \"nom_curso\": \"Infraestructura de Tecnolog\\u00edas de la Informaci\\u00f3n\",\n",
      "        \"cod_curso\": \"ITI\",\n",
      "        \"id_prof\": \"78578\",\n",
      "        \"nom_prof\": \"Jose Esquicha\",\n",
      "        \"cod_prof\": \"JE\",\n",
      "        \"tip_prof\": \"Sustituto\",\n",
      "        \"num_semestre\": \"6\",\n",
      "        \"num_creditos\": \"3\",\n",
      "        \"seccion\": \"C\",\n",
      "        \"mandatory\": \"No\",\n",
      "        \"prerrequisito\": \"Si\",\n",
      "        \"hora_inicio\": \"0.458333333\",\n",
      "        \"hora_fin\": \"0.541666667\"\n",
      "    },\n",
      "    \"33\": {\n",
      "        \"id_curso\": \"33\",\n",
      "        \"nom_curso\": \"Desarrollo de Aplicaciones\",\n",
      "        \"cod_curso\": \"DA\",\n",
      "        \"id_prof\": \"43525\",\n",
      "        \"nom_prof\": \"Jose Sulla\",\n",
      "        \"cod_prof\": \"JS\",\n",
      "        \"tip_prof\": \"Oficial\",\n",
      "        \"num_semestre\": \"6\",\n",
      "        \"num_creditos\": \"4\",\n",
      "        \"seccion\": \"A\",\n",
      "        \"mandatory\": \"Si\",\n",
      "        \"prerrequisito\": \"No\",\n",
      "        \"hora_inicio\": \"0.333333333\",\n",
      "        \"hora_fin\": \"0.395833333\"\n",
      "    },\n",
      "    \"34\": {\n",
      "        \"id_curso\": \"34\",\n",
      "        \"nom_curso\": \"Sistemas de Informaci\\u00f3n Administrativa II\",\n",
      "        \"cod_curso\": \"SIA2\",\n",
      "        \"id_prof\": \"46565\",\n",
      "        \"nom_prof\": \"Diego Iquira\",\n",
      "        \"cod_prof\": \"DI\",\n",
      "        \"tip_prof\": \"Oficial\",\n",
      "        \"num_semestre\": \"6\",\n",
      "        \"num_creditos\": \"2\",\n",
      "        \"seccion\": \"A\",\n",
      "        \"mandatory\": \"Si\",\n",
      "        \"prerrequisito\": \"No\",\n",
      "        \"hora_inicio\": \"0.458333333\",\n",
      "        \"hora_fin\": \"0.520833333\"\n",
      "    }\n",
      "}\n"
     ]
    }
   ],
   "source": [
    "with open('jsonFolder/cursos.json') as json_data:\n",
    "  data = json.load(json_data)\n",
    "  print(json.dumps(data, indent=4))"
   ]
  },
  {
   "cell_type": "markdown",
   "metadata": {
    "id": "bOq4n8QYr5WL"
   },
   "source": [
    "## Conversion Alumnos"
   ]
  },
  {
   "cell_type": "code",
   "execution_count": 23,
   "metadata": {
    "colab": {
     "base_uri": "https://localhost:8080/"
    },
    "id": "HpVOsz5er7m1",
    "outputId": "0d4369fd-578c-4d29-a8b9-4b86a66604bf"
   },
   "outputs": [],
   "source": [
    "csv_file_path = 'alumnos.csv'\n",
    "json_file_path = 'jsonFolder/alumnos.json'\n",
    " \n",
    "csv_a_json(csv_file_path, json_file_path, 'alumnos')"
   ]
  },
  {
   "cell_type": "code",
   "execution_count": 24,
   "metadata": {
    "colab": {
     "base_uri": "https://localhost:8080/"
    },
    "id": "p2lFRYPjr-az",
    "outputId": "079ccd8a-1e1d-4b38-cb1f-c601a110a6fb"
   },
   "outputs": [
    {
     "name": "stdout",
     "output_type": "stream",
     "text": [
      "{\n",
      "    \"2018234225\": {\n",
      "        \"cod_student\": \"2018234225\",\n",
      "        \"nom_student\": \"Jorge Rodriguez Cornejo\",\n",
      "        \"num_course_desirability\": \"4\",\n",
      "        \"course_desirability\": \"Poco\",\n",
      "        \"hour_desirability\": \"Tarde\",\n",
      "        \"cod_curso\": \"GRTI\",\n",
      "        \"num_semestre\": \"9\"\n",
      "    },\n",
      "    \"2018867342\": {\n",
      "        \"cod_student\": \"2018867342\",\n",
      "        \"nom_student\": \"Mateo Rivas Ceballos\",\n",
      "        \"num_course_desirability\": \"4\",\n",
      "        \"course_desirability\": \"Poco\",\n",
      "        \"hour_desirability\": \"Ma\\u00f1ana\",\n",
      "        \"cod_curso\": \"GRTI\",\n",
      "        \"num_semestre\": \"9\"\n",
      "    },\n",
      "    \"2018984532\": {\n",
      "        \"cod_student\": \"2018984532\",\n",
      "        \"nom_student\": \"Vicente Salas Hernandez\",\n",
      "        \"num_course_desirability\": \"4\",\n",
      "        \"course_desirability\": \"Normal\",\n",
      "        \"hour_desirability\": \"Ma\\u00f1ana\",\n",
      "        \"cod_curso\": \"GRTI\",\n",
      "        \"num_semestre\": \"9\"\n",
      "    },\n",
      "    \"2018758613\": {\n",
      "        \"cod_student\": \"2018758613\",\n",
      "        \"nom_student\": \"Piero Huamani Sanchez\",\n",
      "        \"num_course_desirability\": \"4\",\n",
      "        \"course_desirability\": \"Normal\",\n",
      "        \"hour_desirability\": \"Noche\",\n",
      "        \"cod_curso\": \"GRTI\",\n",
      "        \"num_semestre\": \"9\"\n",
      "    },\n",
      "    \"2018428675\": {\n",
      "        \"cod_student\": \"2018428675\",\n",
      "        \"nom_student\": \"Antonio Cardenas Torres\",\n",
      "        \"num_course_desirability\": \"4\",\n",
      "        \"course_desirability\": \"Normal\",\n",
      "        \"hour_desirability\": \"Ma\\u00f1ana\",\n",
      "        \"cod_curso\": \"ASTI\",\n",
      "        \"num_semestre\": \"10\"\n",
      "    },\n",
      "    \"2018488441\": {\n",
      "        \"cod_student\": \"2018488441\",\n",
      "        \"nom_student\": \"Roberto Trujillo Delgado\",\n",
      "        \"num_course_desirability\": \"4\",\n",
      "        \"course_desirability\": \"Normal\",\n",
      "        \"hour_desirability\": \"Noche\",\n",
      "        \"cod_curso\": \"ASTI\",\n",
      "        \"num_semestre\": \"10\"\n",
      "    },\n",
      "    \"2018547757\": {\n",
      "        \"cod_student\": \"2018547757\",\n",
      "        \"nom_student\": \"Jose Reynoso Ramos\",\n",
      "        \"num_course_desirability\": \"4\",\n",
      "        \"course_desirability\": \"Bastante\",\n",
      "        \"hour_desirability\": \"Ma\\u00f1ana\",\n",
      "        \"cod_curso\": \"ASTI\",\n",
      "        \"num_semestre\": \"10\"\n",
      "    },\n",
      "    \"2018246857\": {\n",
      "        \"cod_student\": \"2018246857\",\n",
      "        \"nom_student\": \"Daniel Farfan Barreda\",\n",
      "        \"num_course_desirability\": \"4\",\n",
      "        \"course_desirability\": \"Bastante\",\n",
      "        \"hour_desirability\": \"Tarde\",\n",
      "        \"cod_curso\": \"ASTI\",\n",
      "        \"num_semestre\": \"10\"\n",
      "    },\n",
      "    \"2018235688\": {\n",
      "        \"cod_student\": \"2018235688\",\n",
      "        \"nom_student\": \"Renato Velarde Paredes\",\n",
      "        \"num_course_desirability\": \"4\",\n",
      "        \"course_desirability\": \"Bastante\",\n",
      "        \"hour_desirability\": \"Ma\\u00f1ana\",\n",
      "        \"cod_curso\": \"TIMS\",\n",
      "        \"num_semestre\": \"7\"\n",
      "    },\n",
      "    \"2018693545\": {\n",
      "        \"cod_student\": \"2018693545\",\n",
      "        \"nom_student\": \"Santiago Lazo Tejada\",\n",
      "        \"num_course_desirability\": \"4\",\n",
      "        \"course_desirability\": \"Normal\",\n",
      "        \"hour_desirability\": \"Tarde\",\n",
      "        \"cod_curso\": \"TIMS\",\n",
      "        \"num_semestre\": \"7\"\n",
      "    },\n",
      "    \"2018475869\": {\n",
      "        \"cod_student\": \"2018475869\",\n",
      "        \"nom_student\": \"Angelo Luque Caceres\",\n",
      "        \"num_course_desirability\": \"4\",\n",
      "        \"course_desirability\": \"Normal\",\n",
      "        \"hour_desirability\": \"Tarde\",\n",
      "        \"cod_curso\": \"TIMS\",\n",
      "        \"num_semestre\": \"7\"\n",
      "    },\n",
      "    \"2018142569\": {\n",
      "        \"cod_student\": \"2018142569\",\n",
      "        \"nom_student\": \"Saul Mayta Linares\",\n",
      "        \"num_course_desirability\": \"4\",\n",
      "        \"course_desirability\": \"Poco\",\n",
      "        \"hour_desirability\": \"Ma\\u00f1ana\",\n",
      "        \"cod_curso\": \"TIMS\",\n",
      "        \"num_semestre\": \"7\"\n",
      "    },\n",
      "    \"2018124578\": {\n",
      "        \"cod_student\": \"2018124578\",\n",
      "        \"nom_student\": \"Adolfo Tejada Vilca\",\n",
      "        \"num_course_desirability\": \"4\",\n",
      "        \"course_desirability\": \"Bastante\",\n",
      "        \"hour_desirability\": \"Ma\\u00f1ana\",\n",
      "        \"cod_curso\": \"OO\",\n",
      "        \"num_semestre\": \"8\"\n",
      "    },\n",
      "    \"2018144738\": {\n",
      "        \"cod_student\": \"2018144738\",\n",
      "        \"nom_student\": \"Sebastian Sobenes Arenas\",\n",
      "        \"num_course_desirability\": \"4\",\n",
      "        \"course_desirability\": \"Normal\",\n",
      "        \"hour_desirability\": \"Tarde\",\n",
      "        \"cod_curso\": \"OO\",\n",
      "        \"num_semestre\": \"8\"\n",
      "    },\n",
      "    \"2018145768\": {\n",
      "        \"cod_student\": \"2018145768\",\n",
      "        \"nom_student\": \"Paulo Pereyra Nu\\u00f1ez\",\n",
      "        \"num_course_desirability\": \"4\",\n",
      "        \"course_desirability\": \"Bastante\",\n",
      "        \"hour_desirability\": \"Tarde\",\n",
      "        \"cod_curso\": \"OO\",\n",
      "        \"num_semestre\": \"8\"\n",
      "    },\n",
      "    \"2018753568\": {\n",
      "        \"cod_student\": \"2018753568\",\n",
      "        \"nom_student\": \"Ricardo Zuniga Mayta\",\n",
      "        \"num_course_desirability\": \"4\",\n",
      "        \"course_desirability\": \"Poco\",\n",
      "        \"hour_desirability\": \"Tarde\",\n",
      "        \"cod_curso\": \"OO\",\n",
      "        \"num_semestre\": \"8\"\n",
      "    },\n",
      "    \"2018745853\": {\n",
      "        \"cod_student\": \"2018745853\",\n",
      "        \"nom_student\": \"Andree Del Carpio Rodriguez\",\n",
      "        \"num_course_desirability\": \"4\",\n",
      "        \"course_desirability\": \"Normal\",\n",
      "        \"hour_desirability\": \"Noche\",\n",
      "        \"cod_curso\": \"SIA\",\n",
      "        \"num_semestre\": \"5\"\n",
      "    },\n",
      "    \"2018691435\": {\n",
      "        \"cod_student\": \"2018691435\",\n",
      "        \"nom_student\": \"Andres Escobedo Salcedo\",\n",
      "        \"num_course_desirability\": \"4\",\n",
      "        \"course_desirability\": \"Poco\",\n",
      "        \"hour_desirability\": \"Ma\\u00f1ana\",\n",
      "        \"cod_curso\": \"SIA\",\n",
      "        \"num_semestre\": \"5\"\n",
      "    },\n",
      "    \"2018475868\": {\n",
      "        \"cod_student\": \"2018475868\",\n",
      "        \"nom_student\": \"Rodrigo Macedo Palacios\",\n",
      "        \"num_course_desirability\": \"4\",\n",
      "        \"course_desirability\": \"Normal\",\n",
      "        \"hour_desirability\": \"Ma\\u00f1ana\",\n",
      "        \"cod_curso\": \"SIA\",\n",
      "        \"num_semestre\": \"5\"\n",
      "    },\n",
      "    \"2018145478\": {\n",
      "        \"cod_student\": \"2018145478\",\n",
      "        \"nom_student\": \"Rafael Romero Gamboa\",\n",
      "        \"num_course_desirability\": \"4\",\n",
      "        \"course_desirability\": \"Normal\",\n",
      "        \"hour_desirability\": \"Tarde\",\n",
      "        \"cod_curso\": \"SIA\",\n",
      "        \"num_semestre\": \"5\"\n",
      "    },\n",
      "    \"2018756898\": {\n",
      "        \"cod_student\": \"2018756898\",\n",
      "        \"nom_student\": \"Tomas Arce Atencio\",\n",
      "        \"num_course_desirability\": \"4\",\n",
      "        \"course_desirability\": \"Normal\",\n",
      "        \"hour_desirability\": \"Noche\",\n",
      "        \"cod_curso\": \"SIA2\",\n",
      "        \"num_semestre\": \"6\"\n",
      "    },\n",
      "    \"2018366958\": {\n",
      "        \"cod_student\": \"2018366958\",\n",
      "        \"nom_student\": \"Farid Torres Gamarra\",\n",
      "        \"num_course_desirability\": \"4\",\n",
      "        \"course_desirability\": \"Normal\",\n",
      "        \"hour_desirability\": \"Noche\",\n",
      "        \"cod_curso\": \"SIA2\",\n",
      "        \"num_semestre\": \"6\"\n",
      "    },\n",
      "    \"2018425756\": {\n",
      "        \"cod_student\": \"2018425756\",\n",
      "        \"nom_student\": \"Alonso Barriga Flores\",\n",
      "        \"num_course_desirability\": \"4\",\n",
      "        \"course_desirability\": \"Bastante\",\n",
      "        \"hour_desirability\": \"Noche\",\n",
      "        \"cod_curso\": \"SIA2\",\n",
      "        \"num_semestre\": \"6\"\n",
      "    },\n",
      "    \"2018376842\": {\n",
      "        \"cod_student\": \"2018376842\",\n",
      "        \"nom_student\": \"Diego Ticona Alarcon\",\n",
      "        \"num_course_desirability\": \"4\",\n",
      "        \"course_desirability\": \"Poco\",\n",
      "        \"hour_desirability\": \"Noche\",\n",
      "        \"cod_curso\": \"SIA2\",\n",
      "        \"num_semestre\": \"6\"\n",
      "    }\n",
      "}\n"
     ]
    }
   ],
   "source": [
    "with open('jsonFolder/alumnos.json') as a_json_data:\n",
    "  a_data = json.load(a_json_data)\n",
    "  print(json.dumps(a_data, indent=4))"
   ]
  },
  {
   "cell_type": "markdown",
   "source": [
    "# Conversion de JSON a Clases Python"
   ],
   "metadata": {
    "collapsed": false
   }
  },
  {
   "cell_type": "code",
   "execution_count": 25,
   "outputs": [],
   "source": [
    "class Curso:\n",
    "    def __init__(self, id, nombre_curso, num_semestre, num_creditos, mandatory, prerrequisito):\n",
    "        self.id = id\n",
    "        self.nombre_curso = nombre_curso\n",
    "        self.num_semestre = num_semestre\n",
    "        self.num_creditos = num_creditos\n",
    "        self.madatory = mandatory\n",
    "        self.prerrequisito = prerrequisito\n",
    "\n",
    "lista_cursos = {}"
   ],
   "metadata": {
    "collapsed": false
   }
  },
  {
   "cell_type": "code",
   "execution_count": 77,
   "outputs": [],
   "source": [
    "def convertir_data(file_path: str):\n",
    "    with open(file_path) as f:\n",
    "        data_json = json.load(f)\n",
    "\n",
    "    for curso in range(1,len(data_json)+1):\n",
    "        curso = str(curso)\n",
    "\n",
    "        print(f'{curso}: ',data_json[curso]['nom_curso'])\n"
   ],
   "metadata": {
    "collapsed": false
   }
  },
  {
   "cell_type": "code",
   "execution_count": 78,
   "outputs": [
    {
     "name": "stdout",
     "output_type": "stream",
     "text": [
      "1:  Investigacion en Ingenieria I\n",
      "2:  Planeamiento Estrategico de Sistemas y Tecnologias de la Información\n",
      "3:  Practicas Preprofesionales\n",
      "4:  Tecnologias Emergentes\n",
      "5:  Planeamiento de Recursos Empresariales\n",
      "6:  Gestion de Proyectos\n",
      "7:  Seguridad de la Informacion\n",
      "8:  Gestion de Riesgos en Tecnologias de la Informacion\n",
      "9:  Organización y Metodos\n",
      "10:  Proyecto de Fin de Carrera\n",
      "11:  Investigacion en Ingenieria II\n",
      "12:  Auditoria de Sistemas y Tecnologias de la Informacion\n",
      "13:  Gestion de Procesos de Negocio\n",
      "14:  Sistemas Operativos\n",
      "15:  Ingenieria de Sistemas y Sociedad\n",
      "16:  Tecnologias Moviles\n",
      "17:  Testing, Implantacion y Mantenimiento de Sistemas\n",
      "18:  Sistemas Inteligenctes\n",
      "19:  Iteraccion Humano-Computador\n",
      "20:  Inteligencia de Negocios\n",
      "21:  Fundamentos de Proyectos de Sistemas de Informacion\n",
      "22:  Gestion de Sistemas y Tecnologias de la Informacion\n",
      "23:  Gestion del Conocimiento\n",
      "24:  Innovacion y Emprendedurismo\n",
      "25:  Optimizacion de Operaciones\n",
      "26:  Análisis y Diseño de Sistemas\n",
      "27:  Algoritmos y Estructura de Datos\n",
      "28:  Computación en Red II\n",
      "29:  Sistemas de Información Administrativa I\n",
      "30:  Computación en Red III\n",
      "31:  Gestión de Datos e Información\n",
      "32:  Infraestructura de Tecnologías de la Información\n",
      "33:  Desarrollo de Aplicaciones\n",
      "34:  Sistemas de Información Administrativa II\n"
     ]
    }
   ],
   "source": [
    "convertir_data('jsonFolder/cursos.json')"
   ],
   "metadata": {
    "collapsed": false
   }
  },
  {
   "cell_type": "markdown",
   "metadata": {
    "id": "wKxC3L7NtDmz"
   },
   "source": [
    "# Algoritmo Genetico"
   ]
  },
  {
   "cell_type": "code",
   "execution_count": null,
   "metadata": {
    "colab": {
     "base_uri": "https://localhost:8080/"
    },
    "id": "jr5XZ0-jLkVe",
    "outputId": "6dfacf1a-f846-46b1-fa0c-b36e84a06af1"
   },
   "outputs": [],
   "source": [
    "!pip install pygad"
   ]
  },
  {
   "cell_type": "code",
   "execution_count": null,
   "metadata": {
    "id": "tWEnYraMKMjY"
   },
   "outputs": [],
   "source": [
    "import pygad\n",
    "import numpy"
   ]
  },
  {
   "cell_type": "markdown",
   "metadata": {
    "id": "qOlX6gMoL9QC"
   },
   "source": [
    "## Funcion Fitness"
   ]
  },
  {
   "cell_type": "code",
   "execution_count": null,
   "metadata": {
    "id": "b3zi7JiPKQS-"
   },
   "outputs": [],
   "source": [
    "def fitness_func(solution, solution_idx):\n",
    "    output = numpy.sum(solution * function_inputs)\n",
    "    fitness = 1.0 / numpy.abs(output - desired_output)\n",
    "    return fitness"
   ]
  },
  {
   "cell_type": "markdown",
   "metadata": {
    "id": "bp4rOs2GQIwl"
   },
   "source": [
    "![image.png](data:image/png;base64,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)"
   ]
  },
  {
   "cell_type": "markdown",
   "metadata": {
    "id": "uAx2udQMKXDN"
   },
   "source": [
    "## Input and Output\n",
    "1. Cromosoma\n",
    "2. Salida Deseada"
   ]
  },
  {
   "cell_type": "code",
   "execution_count": null,
   "metadata": {
    "id": "8B6pbpOeKUe2"
   },
   "outputs": [],
   "source": [
    "function_inputs = [4, -2, 3.5, 5, -11, -4.7]\n",
    "desired_output = 44"
   ]
  },
  {
   "cell_type": "markdown",
   "metadata": {
    "id": "5okDY8WEKe0R"
   },
   "source": [
    "## Parametros"
   ]
  },
  {
   "cell_type": "code",
   "execution_count": null,
   "metadata": {
    "id": "QicakxHFKuk0"
   },
   "outputs": [],
   "source": [
    "fitness_function = fitness_func\n",
    "\n",
    "num_generations = 50\n",
    "num_parents_mating = 4\n",
    "\n",
    "sol_per_pop = 8\n",
    "num_genes = len(function_inputs)\n",
    "\n",
    "init_range_low = -2\n",
    "init_range_high = 5\n",
    "\n",
    "parent_selection_type = \"sss\"\n",
    "keep_parents = 1\n",
    "\n",
    "crossover_type = \"single_point\"\n",
    "\n",
    "mutation_type = \"random\"\n",
    "mutation_percent_genes = 10"
   ]
  },
  {
   "cell_type": "markdown",
   "metadata": {
    "id": "mfi_M-8HKxOh"
   },
   "source": [
    "## Configuracion de PYGAD"
   ]
  },
  {
   "cell_type": "code",
   "execution_count": null,
   "metadata": {
    "colab": {
     "base_uri": "https://localhost:8080/"
    },
    "id": "0dmanG0wKwtn",
    "outputId": "a98f0c25-0d46-455c-e14c-5a7f60717abf"
   },
   "outputs": [],
   "source": [
    "ga_instance = pygad.GA(num_generations=num_generations,\n",
    "                           num_parents_mating=num_parents_mating,\n",
    "                           fitness_func=fitness_function,\n",
    "                           sol_per_pop=sol_per_pop,\n",
    "                           num_genes=num_genes,\n",
    "                           init_range_low=init_range_low,\n",
    "                           init_range_high=init_range_high,\n",
    "                           parent_selection_type=parent_selection_type,\n",
    "                           keep_parents=keep_parents,\n",
    "                           crossover_type=crossover_type,\n",
    "                           mutation_type=mutation_type,\n",
    "                           mutation_percent_genes=mutation_percent_genes)"
   ]
  },
  {
   "cell_type": "markdown",
   "metadata": {
    "id": "smXAr5yTK3J0"
   },
   "source": [
    "### Ejecutar el Algoritmo"
   ]
  },
  {
   "cell_type": "code",
   "execution_count": null,
   "metadata": {
    "id": "FJRinnntK2yO"
   },
   "outputs": [],
   "source": [
    "ga_instance.run()"
   ]
  },
  {
   "cell_type": "markdown",
   "metadata": {
    "id": "ZfgSZ96QK8T2"
   },
   "source": [
    "### Resultados"
   ]
  },
  {
   "cell_type": "code",
   "execution_count": null,
   "metadata": {
    "colab": {
     "base_uri": "https://localhost:8080/"
    },
    "id": "npGgcOGlK-hf",
    "outputId": "9316f3f1-321a-4422-b71f-7fbbdd205359"
   },
   "outputs": [],
   "source": [
    "solution, solution_fitness, solution_idx = ga_instance.best_solution()\n",
    "print(\"Parameters of the best solution : {solution}\".format(solution=solution))\n",
    "print(\"Fitness value of the best solution = {solution_fitness}\".format(solution_fitness=solution_fitness))\n",
    "prediction = numpy.sum(numpy.array(function_inputs) * solution)\n",
    "print(\"Predicted output based on the best solution : {prediction}\".format(prediction=prediction))"
   ]
  },
  {
   "cell_type": "markdown",
   "metadata": {
    "id": "DZ-GZPNtPukQ"
   },
   "source": [
    "## Plotting of result"
   ]
  },
  {
   "cell_type": "code",
   "execution_count": null,
   "metadata": {
    "colab": {
     "base_uri": "https://localhost:8080/",
     "height": 583
    },
    "id": "yXHDCNVTOsmV",
    "outputId": "92593144-7d04-44b3-a2f0-b69b003b4279"
   },
   "outputs": [],
   "source": [
    "ga_instance.plot_fitness()"
   ]
  },
  {
   "cell_type": "markdown",
   "metadata": {
    "id": "Fkr7Uo3QPyUi"
   },
   "source": [
    "## Guardado de resultados"
   ]
  },
  {
   "cell_type": "code",
   "execution_count": null,
   "metadata": {
    "id": "31RTWyyJPx14"
   },
   "outputs": [],
   "source": [
    "filename = 'genetic'"
   ]
  }
 ],
 "metadata": {
  "colab": {
   "collapsed_sections": [],
   "provenance": []
  },
  "kernelspec": {
   "display_name": "Python 3 (ipykernel)",
   "language": "python",
   "name": "python3"
  },
  "language_info": {
   "codemirror_mode": {
    "name": "ipython",
    "version": 3
   },
   "file_extension": ".py",
   "mimetype": "text/x-python",
   "name": "python",
   "nbconvert_exporter": "python",
   "pygments_lexer": "ipython3",
   "version": "3.9.6"
  }
 },
 "nbformat": 4,
 "nbformat_minor": 1
}
